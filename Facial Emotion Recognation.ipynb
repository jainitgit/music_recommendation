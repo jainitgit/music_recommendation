{
 "cells": [
  {
   "cell_type": "code",
   "execution_count": 2,
   "id": "7450686e-af23-4a0b-97e3-7de5422b5c93",
   "metadata": {},
   "outputs": [],
   "source": [
    "!pip install --quiet opencv-python"
   ]
  },
  {
   "cell_type": "code",
   "execution_count": 3,
   "id": "95cc3664-152f-49c5-bcc3-ab660a73b00e",
   "metadata": {},
   "outputs": [],
   "source": [
    "!pip install --quiet matplotlib"
   ]
  },
  {
   "cell_type": "code",
   "execution_count": 4,
   "id": "5c544882-79a9-4405-9823-68a09c126e2c",
   "metadata": {},
   "outputs": [],
   "source": [
    "!pip install --quiet seaborn"
   ]
  },
  {
   "cell_type": "code",
   "execution_count": 5,
   "id": "d65c1f2b",
   "metadata": {},
   "outputs": [],
   "source": [
    "import tensorflow as tf\n",
    "import os\n",
    "import cv2\n",
    "import imghdr\n",
    "import numpy as np\n",
    "import keras\n",
    "from matplotlib import pyplot as plt\n",
    "import seaborn as sns\n",
    "from keras.models import Sequential\n",
    "from keras.layers import Conv2D, MaxPooling2D, AveragePooling2D\n",
    "from keras.layers import Dense, Activation, Dropout, Flatten, BatchNormalization"
   ]
  },
  {
   "cell_type": "code",
   "execution_count": 6,
   "id": "9e1d7d61",
   "metadata": {},
   "outputs": [],
   "source": [
    "import tensorflow as tf\n",
    "# Avoid OOM errors by setting GPU Memory Consumption Growth\n",
    "gpus = tf.config.experimental.list_physical_devices('GPU')\n",
    "for gpu in gpus: \n",
    "    tf.config.experimental.set_memory_growth(gpu, True)"
   ]
  },
  {
   "cell_type": "code",
   "execution_count": 7,
   "id": "81cd7407",
   "metadata": {},
   "outputs": [
    {
     "data": {
      "text/plain": [
       "[]"
      ]
     },
     "execution_count": 7,
     "metadata": {},
     "output_type": "execute_result"
    }
   ],
   "source": [
    "tf.config.list_physical_devices(\"GPU\")"
   ]
  },
  {
   "cell_type": "code",
   "execution_count": 8,
   "id": "9fffd9f5-41fe-48aa-8384-2e2fcab7797a",
   "metadata": {},
   "outputs": [],
   "source": [
    "image_dir = \"D:/Images\""
   ]
  },
  {
   "cell_type": "code",
   "execution_count": 132,
   "id": "f7e694c1",
   "metadata": {},
   "outputs": [],
   "source": [
    "# train_dir = \"C:/Users/khann/Downloads/Faces Images/images/train\"\n",
    "# test_dir = \"C:/Users/khann/Downloads/Faces Images/images/validation\""
   ]
  },
  {
   "cell_type": "code",
   "execution_count": 9,
   "id": "16f1180c-1293-4a7b-9fc6-946f2284779a",
   "metadata": {},
   "outputs": [
    {
     "ename": "NameError",
     "evalue": "name 'train_dir' is not defined",
     "output_type": "error",
     "traceback": [
      "\u001b[1;31m---------------------------------------------------------------------------\u001b[0m",
      "\u001b[1;31mNameError\u001b[0m                                 Traceback (most recent call last)",
      "Cell \u001b[1;32mIn[9], line 1\u001b[0m\n\u001b[1;32m----> 1\u001b[0m \u001b[38;5;28;01mfor\u001b[39;00m cat \u001b[38;5;129;01min\u001b[39;00m os\u001b[38;5;241m.\u001b[39mlistdir(\u001b[43mtrain_dir\u001b[49m):\n\u001b[0;32m      2\u001b[0m     \u001b[38;5;28mprint\u001b[39m(cat,\u001b[38;5;124m\"\u001b[39m\u001b[38;5;124m----\u001b[39m\u001b[38;5;124m\"\u001b[39m, \u001b[38;5;28mlen\u001b[39m(os\u001b[38;5;241m.\u001b[39mlistdir(os\u001b[38;5;241m.\u001b[39mpath\u001b[38;5;241m.\u001b[39mjoin(image_dir, cat))))\n",
      "\u001b[1;31mNameError\u001b[0m: name 'train_dir' is not defined"
     ]
    }
   ],
   "source": [
    "for cat in os.listdir(train_dir):\n",
    "    print(cat,\"----\", len(os.listdir(os.path.join(image_dir, cat))))"
   ]
  },
  {
   "cell_type": "code",
   "execution_count": 134,
   "id": "c4c12ece-7121-4dc3-9611-d457ad04940d",
   "metadata": {},
   "outputs": [
    {
     "name": "stdout",
     "output_type": "stream",
     "text": [
      "Found 30345 files belonging to 3 classes.\n",
      "Found 4180 files belonging to 3 classes.\n"
     ]
    }
   ],
   "source": [
    "# train_data = tf.keras.utils.image_dataset_from_directory(train_dir, label_mode = \"categorical\", image_size = (48,48),\n",
    "#                                                         color_mode = \"grayscale\")\n",
    "# test_data = tf.keras.utils.image_dataset_from_directory(test_dir, label_mode = \"categorical\", image_size = (48,48),\n",
    "#                                                        color_mode = \"grayscale\")"
   ]
  },
  {
   "cell_type": "code",
   "execution_count": 10,
   "id": "f891bdb3-1937-4d36-859f-8e028016bfc0",
   "metadata": {},
   "outputs": [
    {
     "name": "stdout",
     "output_type": "stream",
     "text": [
      "Found 13261 files belonging to 3 classes.\n"
     ]
    }
   ],
   "source": [
    "train_data = tf.keras.utils.image_dataset_from_directory(image_dir, label_mode = \"categorical\", image_size = (48,48),\n",
    "                                            color_mode = \"rgb\")"
   ]
  },
  {
   "cell_type": "code",
   "execution_count": 11,
   "id": "d705db0a-451d-49b6-8431-b5abee8121e0",
   "metadata": {},
   "outputs": [],
   "source": [
    "normalization_layer = tf.keras.layers.Rescaling(1./255)"
   ]
  },
  {
   "cell_type": "code",
   "execution_count": 12,
   "id": "d6919ff2-0c9f-4848-8e9d-cb7456731d13",
   "metadata": {},
   "outputs": [],
   "source": [
    "train_data = train_data.map(lambda x,y :(normalization_layer(x), y))\n",
    "# test_data = test_data.map(lambda x,y :(normalization_layer(x), y))"
   ]
  },
  {
   "cell_type": "code",
   "execution_count": 13,
   "id": "c9bd04df-cd2b-4687-bdf7-f480f3806a23",
   "metadata": {},
   "outputs": [],
   "source": [
    "train_data_iterator = train_data.as_numpy_iterator()\n",
    "# test_data_iterator = test_data.as_numpy_iterator()"
   ]
  },
  {
   "cell_type": "code",
   "execution_count": 14,
   "id": "a29e7502-0b01-4378-80e9-f619b2a1a92c",
   "metadata": {},
   "outputs": [],
   "source": [
    "train_batch = train_data_iterator.next()\n",
    "# test_batch = test_data_iterator.next()"
   ]
  },
  {
   "cell_type": "code",
   "execution_count": 15,
   "id": "24c5d591-9830-401e-9bf0-97b177144516",
   "metadata": {},
   "outputs": [
    {
     "name": "stdout",
     "output_type": "stream",
     "text": [
      "2\n"
     ]
    }
   ],
   "source": [
    "print(len(train_batch))\n",
    "# print(len(test_batch))"
   ]
  },
  {
   "cell_type": "code",
   "execution_count": null,
   "id": "d051dc71-dfce-412b-bc65-42eeed1ab3b6",
   "metadata": {},
   "outputs": [
    {
     "data": {
      "text/plain": [
       "<matplotlib.image.AxesImage at 0x26a902effd0>"
      ]
     },
     "execution_count": 16,
     "metadata": {},
     "output_type": "execute_result"
    }
   ],
   "source": [
    "plt.imshow(train_batch[0][16])"
   ]
  },
  {
   "cell_type": "code",
   "execution_count": null,
   "id": "578c6bde-0bd9-4fb6-b0b7-87cbfdbedf7f",
   "metadata": {},
   "outputs": [],
   "source": [
    "fig, ax = plt.subplots(ncols = 10, figsize = (20,20))\n",
    "for idx, img in enumerate(train_batch[0][5:15]):\n",
    "    ax[idx].imshow(img)\n",
    "    ax[idx].title.set_text(train_batch[1][idx+5])"
   ]
  },
  {
   "cell_type": "code",
   "execution_count": 199,
   "id": "a577194f-a809-44ed-a11f-36f20b057e5b",
   "metadata": {},
   "outputs": [
    {
     "name": "stdout",
     "output_type": "stream",
     "text": [
      "415\n"
     ]
    }
   ],
   "source": [
    "print(len(train_data))\n",
    "# print(len(test_data))"
   ]
  },
  {
   "cell_type": "code",
   "execution_count": 200,
   "id": "d8c294b2-86d8-4a2f-8f80-7e44a1591d97",
   "metadata": {},
   "outputs": [],
   "source": [
    "train_size = int(len(train_data)*0.9)\n",
    "val_size = int(len(train_data)*0.1)+1"
   ]
  },
  {
   "cell_type": "code",
   "execution_count": 201,
   "id": "8bfabc00-7bd3-431d-b9f9-e0359ced3571",
   "metadata": {},
   "outputs": [],
   "source": [
    "train = train_data.take(train_size)\n",
    "val = train_data.skip(train_size).take(val_size)"
   ]
  },
  {
   "cell_type": "code",
   "execution_count": 202,
   "id": "8a2ea49f-c72c-4ebc-a185-3f7685d19f33",
   "metadata": {},
   "outputs": [
    {
     "data": {
      "text/plain": [
       "<TakeDataset element_spec=(TensorSpec(shape=(None, 48, 48, 3), dtype=tf.float32, name=None), TensorSpec(shape=(None, 3), dtype=tf.float32, name=None))>"
      ]
     },
     "execution_count": 202,
     "metadata": {},
     "output_type": "execute_result"
    }
   ],
   "source": [
    "train"
   ]
  },
  {
   "cell_type": "code",
   "execution_count": 204,
   "id": "690fe85e-0113-4f8c-849c-d0274b9c5026",
   "metadata": {},
   "outputs": [],
   "source": [
    "model = Sequential()\n",
    "#1st CNN layer\n",
    "model.add(Conv2D(64,(3,3),padding='same',input_shape=(48,48,3)))\n",
    "model.add(BatchNormalization())\n",
    "model.add(Activation('relu'))\n",
    "model.add(MaxPooling2D(pool_size=(2,2)))\n",
    "model.add(Dropout(0.25))\n",
    "\n",
    "#2nd CNN layer\n",
    "model.add(Conv2D(128,(5,5),padding='same'))\n",
    "model.add(BatchNormalization())\n",
    "model.add(Activation('relu'))\n",
    "model.add(MaxPooling2D(pool_size=(2,2)))\n",
    "model.add(Dropout(0.25))\n",
    "\n",
    "\n",
    "#3rd CNN layer\n",
    "model.add(Conv2D(512,(3,3),padding='same'))\n",
    "model.add(BatchNormalization())\n",
    "model.add(Activation('relu'))\n",
    "model.add(MaxPooling2D(pool_size=(2,2)))\n",
    "model.add(Dropout(0.25))\n",
    "\n",
    "#4th CNN layer\n",
    "model.add(Conv2D(512,(3,3),padding='same'))\n",
    "model.add(BatchNormalization())\n",
    "model.add(Activation('relu'))\n",
    "model.add(MaxPooling2D(pool_size=(2,2)))\n",
    "model.add(Dropout(0.25))\n",
    "\n",
    "model.add(Flatten())\n",
    "\n",
    "#Fully connected 1st Layer\n",
    "model.add(Dense(256))\n",
    "model.add(BatchNormalization())\n",
    "model.add(Activation('relu'))\n",
    "model.add(Dropout(0.25))\n",
    "\n",
    "\n",
    "model.add(Dense(512))\n",
    "model.add(BatchNormalization())\n",
    "model.add(Activation('relu'))\n",
    "model.add(Dropout(0.25))\n",
    "\n",
    "model.add(Dense(3,activation = 'softmax'))"
   ]
  },
  {
   "cell_type": "code",
   "execution_count": 205,
   "id": "f8849c9a-a48a-4afc-af50-41ad98d80f77",
   "metadata": {},
   "outputs": [],
   "source": [
    "model.compile(loss = \"categorical_crossentropy\",\n",
    "              optimizer = keras.optimizers.Adam(learning_rate = 0.0001),\n",
    "              metrics = [\"accuracy\"],\n",
    "             )"
   ]
  },
  {
   "cell_type": "code",
   "execution_count": 206,
   "id": "d097e368-bd04-497b-b7a1-8f6e81efcdb4",
   "metadata": {},
   "outputs": [
    {
     "name": "stdout",
     "output_type": "stream",
     "text": [
      "Model: \"sequential_5\"\n",
      "_________________________________________________________________\n",
      " Layer (type)                Output Shape              Param #   \n",
      "=================================================================\n",
      " conv2d_20 (Conv2D)          (None, 48, 48, 64)        1792      \n",
      "                                                                 \n",
      " batch_normalization_30 (Bat  (None, 48, 48, 64)       256       \n",
      " chNormalization)                                                \n",
      "                                                                 \n",
      " activation_30 (Activation)  (None, 48, 48, 64)        0         \n",
      "                                                                 \n",
      " max_pooling2d_20 (MaxPoolin  (None, 24, 24, 64)       0         \n",
      " g2D)                                                            \n",
      "                                                                 \n",
      " dropout_30 (Dropout)        (None, 24, 24, 64)        0         \n",
      "                                                                 \n",
      " conv2d_21 (Conv2D)          (None, 24, 24, 128)       204928    \n",
      "                                                                 \n",
      " batch_normalization_31 (Bat  (None, 24, 24, 128)      512       \n",
      " chNormalization)                                                \n",
      "                                                                 \n",
      " activation_31 (Activation)  (None, 24, 24, 128)       0         \n",
      "                                                                 \n",
      " max_pooling2d_21 (MaxPoolin  (None, 12, 12, 128)      0         \n",
      " g2D)                                                            \n",
      "                                                                 \n",
      " dropout_31 (Dropout)        (None, 12, 12, 128)       0         \n",
      "                                                                 \n",
      " conv2d_22 (Conv2D)          (None, 12, 12, 512)       590336    \n",
      "                                                                 \n",
      " batch_normalization_32 (Bat  (None, 12, 12, 512)      2048      \n",
      " chNormalization)                                                \n",
      "                                                                 \n",
      " activation_32 (Activation)  (None, 12, 12, 512)       0         \n",
      "                                                                 \n",
      " max_pooling2d_22 (MaxPoolin  (None, 6, 6, 512)        0         \n",
      " g2D)                                                            \n",
      "                                                                 \n",
      " dropout_32 (Dropout)        (None, 6, 6, 512)         0         \n",
      "                                                                 \n",
      " conv2d_23 (Conv2D)          (None, 6, 6, 512)         2359808   \n",
      "                                                                 \n",
      " batch_normalization_33 (Bat  (None, 6, 6, 512)        2048      \n",
      " chNormalization)                                                \n",
      "                                                                 \n",
      " activation_33 (Activation)  (None, 6, 6, 512)         0         \n",
      "                                                                 \n",
      " max_pooling2d_23 (MaxPoolin  (None, 3, 3, 512)        0         \n",
      " g2D)                                                            \n",
      "                                                                 \n",
      " dropout_33 (Dropout)        (None, 3, 3, 512)         0         \n",
      "                                                                 \n",
      " flatten_5 (Flatten)         (None, 4608)              0         \n",
      "                                                                 \n",
      " dense_15 (Dense)            (None, 256)               1179904   \n",
      "                                                                 \n",
      " batch_normalization_34 (Bat  (None, 256)              1024      \n",
      " chNormalization)                                                \n",
      "                                                                 \n",
      " activation_34 (Activation)  (None, 256)               0         \n",
      "                                                                 \n",
      " dropout_34 (Dropout)        (None, 256)               0         \n",
      "                                                                 \n",
      " dense_16 (Dense)            (None, 512)               131584    \n",
      "                                                                 \n",
      " batch_normalization_35 (Bat  (None, 512)              2048      \n",
      " chNormalization)                                                \n",
      "                                                                 \n",
      " activation_35 (Activation)  (None, 512)               0         \n",
      "                                                                 \n",
      " dropout_35 (Dropout)        (None, 512)               0         \n",
      "                                                                 \n",
      " dense_17 (Dense)            (None, 3)                 1539      \n",
      "                                                                 \n",
      "=================================================================\n",
      "Total params: 4,477,827\n",
      "Trainable params: 4,473,859\n",
      "Non-trainable params: 3,968\n",
      "_________________________________________________________________\n",
      "None\n"
     ]
    }
   ],
   "source": [
    "print(model.summary())"
   ]
  },
  {
   "cell_type": "code",
   "execution_count": 207,
   "id": "24e71513-d7ea-46b4-a42b-c516afcaa341",
   "metadata": {},
   "outputs": [],
   "source": [
    "logdir = 'logs'"
   ]
  },
  {
   "cell_type": "code",
   "execution_count": 208,
   "id": "ebc885a5-914c-409a-938c-b9a32c96b4d9",
   "metadata": {},
   "outputs": [],
   "source": [
    "tensorboard_callback = tf.keras.callbacks.TensorBoard(log_dir = logdir)"
   ]
  },
  {
   "cell_type": "code",
   "execution_count": 209,
   "id": "5c570b70-b9ee-4779-88a1-3d50a17c7747",
   "metadata": {},
   "outputs": [],
   "source": [
    "callback = keras.callbacks.EarlyStopping(monitor='val_loss')                                             "
   ]
  },
  {
   "cell_type": "code",
   "execution_count": 210,
   "id": "2cf5257d-ccd0-444c-a52e-48e479696859",
   "metadata": {},
   "outputs": [
    {
     "name": "stdout",
     "output_type": "stream",
     "text": [
      "Epoch 1/20\n",
      "373/373 [==============================] - 28s 70ms/step - loss: 1.0425 - accuracy: 0.5003 - val_loss: 1.0863 - val_accuracy: 0.3140\n",
      "Epoch 2/20\n",
      "373/373 [==============================] - 16s 41ms/step - loss: 0.6880 - accuracy: 0.6762 - val_loss: 0.6929 - val_accuracy: 0.6264\n",
      "Epoch 3/20\n",
      "373/373 [==============================] - 15s 40ms/step - loss: 0.5417 - accuracy: 0.7606 - val_loss: 0.4689 - val_accuracy: 0.7947\n",
      "Epoch 4/20\n",
      "373/373 [==============================] - 15s 40ms/step - loss: 0.4627 - accuracy: 0.8109 - val_loss: 0.4400 - val_accuracy: 0.8053\n",
      "Epoch 5/20\n",
      "373/373 [==============================] - 15s 41ms/step - loss: 0.4078 - accuracy: 0.8346 - val_loss: 0.4040 - val_accuracy: 0.8340\n",
      "Epoch 6/20\n",
      "373/373 [==============================] - 16s 42ms/step - loss: 0.3752 - accuracy: 0.8481 - val_loss: 0.3331 - val_accuracy: 0.8626\n",
      "Epoch 7/20\n",
      "373/373 [==============================] - 15s 41ms/step - loss: 0.3381 - accuracy: 0.8651 - val_loss: 0.2941 - val_accuracy: 0.8830\n",
      "Epoch 8/20\n",
      "373/373 [==============================] - 15s 40ms/step - loss: 0.3210 - accuracy: 0.8767 - val_loss: 0.2667 - val_accuracy: 0.8981\n",
      "Epoch 9/20\n",
      "373/373 [==============================] - 15s 41ms/step - loss: 0.3028 - accuracy: 0.8794 - val_loss: 0.2453 - val_accuracy: 0.9109\n",
      "Epoch 10/20\n",
      "373/373 [==============================] - 15s 41ms/step - loss: 0.2923 - accuracy: 0.8873 - val_loss: 0.2597 - val_accuracy: 0.8974\n",
      "Epoch 11/20\n",
      "373/373 [==============================] - 15s 41ms/step - loss: 0.2696 - accuracy: 0.8970 - val_loss: 0.2402 - val_accuracy: 0.9102\n",
      "Epoch 12/20\n",
      "373/373 [==============================] - 15s 41ms/step - loss: 0.2609 - accuracy: 0.8995 - val_loss: 0.2289 - val_accuracy: 0.9155\n",
      "Epoch 13/20\n",
      "373/373 [==============================] - 15s 41ms/step - loss: 0.2493 - accuracy: 0.9025 - val_loss: 0.2230 - val_accuracy: 0.9170\n",
      "Epoch 14/20\n",
      "373/373 [==============================] - 15s 41ms/step - loss: 0.2351 - accuracy: 0.9074 - val_loss: 0.2259 - val_accuracy: 0.9245\n",
      "Epoch 15/20\n",
      "373/373 [==============================] - 16s 42ms/step - loss: 0.2244 - accuracy: 0.9133 - val_loss: 0.2168 - val_accuracy: 0.9208\n",
      "Epoch 16/20\n",
      "373/373 [==============================] - 15s 41ms/step - loss: 0.2137 - accuracy: 0.9179 - val_loss: 0.2109 - val_accuracy: 0.9268\n",
      "Epoch 17/20\n",
      "373/373 [==============================] - 15s 41ms/step - loss: 0.2131 - accuracy: 0.9181 - val_loss: 0.2222 - val_accuracy: 0.9155\n",
      "Epoch 18/20\n",
      "373/373 [==============================] - 15s 40ms/step - loss: 0.2000 - accuracy: 0.9224 - val_loss: 0.2105 - val_accuracy: 0.9230\n",
      "Epoch 19/20\n",
      "373/373 [==============================] - 16s 42ms/step - loss: 0.1876 - accuracy: 0.9297 - val_loss: 0.1960 - val_accuracy: 0.9336\n",
      "Epoch 20/20\n",
      "373/373 [==============================] - 15s 41ms/step - loss: 0.1908 - accuracy: 0.9260 - val_loss: 0.1998 - val_accuracy: 0.9343\n"
     ]
    }
   ],
   "source": [
    "history = model.fit(train, epochs = 20, validation_data = val, callbacks = [tensorboard_callback],\n",
    "                   )"
   ]
  },
  {
   "cell_type": "code",
   "execution_count": 211,
   "id": "34e20052-59c2-4706-bc7f-7b6065409285",
   "metadata": {},
   "outputs": [],
   "source": [
    "loss = history.history['loss']\n",
    "val_loss = history.history['val_loss']\n",
    "accuracy = history.history['accuracy']\n",
    "val_accuracy = history.history['val_accuracy']"
   ]
  },
  {
   "cell_type": "code",
   "execution_count": 212,
   "id": "2d9ce8a2-f55a-43b3-b633-59540bc5fe6a",
   "metadata": {},
   "outputs": [
    {
     "data": {
      "text/plain": [
       "<matplotlib.legend.Legend at 0x23f8201fdc0>"
      ]
     },
     "execution_count": 212,
     "metadata": {},
     "output_type": "execute_result"
    },
    {
     "data": {
      "image/png": "[encoded data removed]",
      "text/plain": [
       "<Figure size 900x500 with 2 Axes>"
      ]
     },
     "metadata": {},
     "output_type": "display_data"
    }
   ],
   "source": [
    "\n",
    "fig, ax = plt.subplots(1,2, figsize = (9,5))\n",
    "ax[0].plot(loss, label = \"trainig_loss\")\n",
    "ax[0].plot(val_loss, label = \"validaion_loss\")\n",
    "ax[0].legend(loc = 'upper right')\n",
    "\n",
    "\n",
    "ax[1].plot(accuracy, label = \"trainig_accuracy\")\n",
    "ax[1].plot(val_accuracy, label = \"validation_ccuracy\")\n",
    "ax[1].legend(loc = 'upper right')"
   ]
  },
  {
   "cell_type": "code",
   "execution_count": 214,
   "id": "b85c1495-8b5b-494e-a417-a82f23181514",
   "metadata": {},
   "outputs": [],
   "source": [
    "model.save(\"wieght_bias.h5\")"
   ]
  },
  {
   "cell_type": "code",
   "execution_count": 215,
   "id": "26113644-a099-4f7a-90e3-db0dd18c4d1b",
   "metadata": {},
   "outputs": [],
   "source": [
    "json_file = model.to_json()\n",
    "with open(\"emotiondetector.json\", \"w\") as f:\n",
    "    f.write(json_file)"
   ]
  },
  {
   "cell_type": "code",
   "execution_count": 224,
   "id": "aa715ef6-6aac-4623-90ca-626f418c95ff",
   "metadata": {},
   "outputs": [
    {
     "name": "stdout",
     "output_type": "stream",
     "text": [
      "(1, 48, 48, 3)\n",
      "1/1 [==============================] - 0s 25ms/step\n"
     ]
    },
    {
     "data": {
      "text/plain": [
       "array([[0., 0., 1.]], dtype=float32)"
      ]
     },
     "execution_count": 224,
     "metadata": {},
     "output_type": "execute_result"
    }
   ],
   "source": [
    "path = \"C:/Users/khann/OneDrive/Desktop/05-12-21-happy-people.jpg\"\n",
    "image = cv2.imread(path)\n",
    "image = cv2.resize(image, (48,48))\n",
    "image = image.reshape(1,48,48,3)\n",
    "print(image.shape)\n",
    "model.predict(image)"
   ]
  },
  {
   "cell_type": "code",
   "execution_count": 221,
   "id": "2a69c013-a239-49bb-9ed8-655ce66dd0b3",
   "metadata": {},
   "outputs": [],
   "source": [
    "model.save('emotion_Detection_model.keras')"
   ]
  },
  {
   "cell_type": "code",
   "execution_count": 161,
   "id": "8afec0e7-5af3-49cb-96e8-e2951f711cc0",
   "metadata": {},
   "outputs": [
    {
     "data": {
      "text/plain": [
       "<keras.engine.sequential.Sequential at 0x23e590124d0>"
      ]
     },
     "execution_count": 161,
     "metadata": {},
     "output_type": "execute_result"
    }
   ],
   "source": [
    "keras.models.load_model(\"C:/Users/khann/emotion_Detection_model.keras\")"
   ]
  },
  {
   "cell_type": "code",
   "execution_count": null,
   "id": "a01bca0a-d02c-4261-a4b4-0071c4d82d5c",
   "metadata": {},
   "outputs": [],
   "source": [
    "keras.__version__"
   ]
  },
  {
   "cell_type": "code",
   "execution_count": null,
   "id": "8f9ea43a-8450-4d9f-916b-d10ddc276d5c",
   "metadata": {},
   "outputs": [],
   "source": [
    "tf.__version__"
   ]
  }
 ],
 "metadata": {
  "kernelspec": {
   "display_name": "Python 3 (ipykernel)",
   "language": "python",
   "name": "python3"
  },
  "language_info": {
   "codemirror_mode": {
    "name": "ipython",
    "version": 3
   },
   "file_extension": ".py",
   "mimetype": "text/x-python",
   "name": "python",
   "nbconvert_exporter": "python",
   "pygments_lexer": "ipython3",
   "version": "3.10.13"
  }
 },
 "nbformat": 4,
 "nbformat_minor": 5
}
